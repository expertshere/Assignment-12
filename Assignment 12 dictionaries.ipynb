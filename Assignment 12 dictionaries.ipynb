{
 "cells": [
  {
   "cell_type": "code",
   "execution_count": 2,
   "id": "fbb621c9",
   "metadata": {},
   "outputs": [
    {
     "name": "stdout",
     "output_type": "stream",
     "text": [
      "Enter a sentence: Laptop \n",
      "Word counts: {'laptop': 1}\n"
     ]
    }
   ],
   "source": [
    "# word counter\n",
    "def word_count(sentence):\n",
    "    word_counts = {}\n",
    "    words = sentence.split()\n",
    "    for word in words:\n",
    "        cleaned_word = word.strip('.,!?').lower()\n",
    "\n",
    "        word_counts[cleaned_word] = word_counts.get(cleaned_word, 0) + 1\n",
    "\n",
    "    return word_counts\n",
    "\n",
    "input_sentence = input(\"Enter a sentence: \")\n",
    "result = word_count(input_sentence)\n",
    "print(\"Word counts:\", result)\n",
    "\n"
   ]
  },
  {
   "cell_type": "code",
   "execution_count": null,
   "id": "2151d062",
   "metadata": {},
   "outputs": [],
   "source": [
    "# Grade calculator\n",
    "grading_scale = {'A': 90, 'B': 80, 'C': 70, 'D': 60, 'F': 0}\n",
    "\n",
    "num_subjects = int(input(\"Enter the number of subjects: \"))\n",
    "subject_scores = []\n",
    "\n",
    "for i in range(num_subjects):\n",
    "    score = float(input(f\"Enter the score for subject {i + 1}: \"))\n",
    "    subject_scores.append(score)\n",
    "\n",
    "total_score = sum(subject_scores)\n",
    "average_score = total_score / num_subjects\n",
    "\n",
    "for grade, cutoff in grading_scale.items():\n",
    "    if average_score >= cutoff:\n",
    "        overall_grade = grade\n",
    "        break\n",
    "else:\n",
    "    overall_grade = 'F' \n",
    "\n",
    "print(f\"Your overall grade is: {overall_grade}\")\n",
    "\n",
    "\n"
   ]
  },
  {
   "cell_type": "code",
   "execution_count": 12,
   "id": "cc9105f6",
   "metadata": {},
   "outputs": [
    {
     "name": "stdout",
     "output_type": "stream",
     "text": [
      "Shopping List:\n",
      "Options:\n",
      "1. Add item\n",
      "2. Remove item\n",
      "3. Check off item\n",
      "4. Quit\n",
      "Enter your choice (1-4): 1\n",
      "Enter the item to add: laptop\n",
      "Shopping List:\n",
      "[ ] laptop\n",
      "Options:\n",
      "1. Add item\n",
      "2. Remove item\n",
      "3. Check off item\n",
      "4. Quit\n",
      "Enter your choice (1-4): 4\n",
      "Exiting the shopping list program.\n"
     ]
    }
   ],
   "source": [
    "# Shopping list manager\n",
    "shopping_list = {}\n",
    "\n",
    "while True:\n",
    "    print(\"Shopping List:\")\n",
    "    for item, checked in shopping_list.items():\n",
    "        print(f\"{'[X]' if checked else '[ ]'} {item}\")\n",
    "\n",
    "    print(\"Options:\")\n",
    "    print(\"1. Add item\")\n",
    "    print(\"2. Remove item\")\n",
    "    print(\"3. Check off item\")\n",
    "    print(\"4. Quit\")\n",
    "\n",
    "    choice = input(\"Enter your choice (1-4): \")\n",
    "\n",
    "    if choice == '1':\n",
    "        item = input(\"Enter the item to add: \")\n",
    "        shopping_list[item] = False  \n",
    "    elif choice == '2':\n",
    "        item = input(\"Enter the item to remove: \")\n",
    "        shopping_list.pop(item, None)  \n",
    "    elif choice == '3':\n",
    "        item = input(\"Enter the item to check off: \")\n",
    "        if item in shopping_list:\n",
    "            shopping_list[item] = True\n",
    "        else:\n",
    "            print(\"Item not found in the list.\")\n",
    "    elif choice == '4':\n",
    "        break\n",
    "    else:\n",
    "        print(\"Invalid choice. Please enter a number between 1 and 4.\")\n",
    "\n",
    "print(\"Exiting the shopping list program.\")\n",
    "\n"
   ]
  },
  {
   "cell_type": "code",
   "execution_count": 13,
   "id": "643ecfbb",
   "metadata": {},
   "outputs": [
    {
     "name": "stdout",
     "output_type": "stream",
     "text": [
      "Enter the movie title (or type 'exit' to end): The Goost\n",
      "Rate the movie on a scale from 1 to 5: 3\n",
      "Enter the movie title (or type 'exit' to end): exit\n",
      "Average rating for The Goost: 3.0\n"
     ]
    }
   ],
   "source": [
    "# movies rating tracker\n",
    "movie_ratings = {}\n",
    "\n",
    "while True:\n",
    "    title = input(\"Enter the movie title (or type 'exit' to end): \")\n",
    "    \n",
    "    if title.lower() == 'exit':\n",
    "        break\n",
    "    \n",
    "    rating = int(input(\"Rate the movie on a scale from 1 to 5: \"))\n",
    "    \n",
    "    if title in movie_ratings:\n",
    "        movie_ratings[title]['ratings'].append(rating)\n",
    "    else:\n",
    "        movie_ratings[title] = {'ratings': [rating]}\n",
    "\n",
    "for title, ratings_data in movie_ratings.items():\n",
    "    average_rating = sum(ratings_data['ratings']) / len(ratings_data['ratings'])\n",
    "    print(f\"Average rating for {title}: {average_rating}\")\n"
   ]
  },
  {
   "cell_type": "code",
   "execution_count": 15,
   "id": "dcf6caec",
   "metadata": {},
   "outputs": [
    {
     "name": "stdout",
     "output_type": "stream",
     "text": [
      "Choose conversion direction (C to F or F to C), or type 'exit' to end: c to f\n",
      "Enter temperature in Celsius: 34\n",
      "34.0 Celsius is 61.2 Fahrenheit.\n",
      "Choose conversion direction (C to F or F to C), or type 'exit' to end: exit\n"
     ]
    }
   ],
   "source": [
    "# Temprature converter\n",
    "conversion_factors = {'c_to_f': 9/5, 'f_to_c': 5/9}\n",
    "\n",
    "while True:\n",
    "    choice = input(\"Choose conversion direction (C to F or F to C), or type 'exit' to end: \").lower()\n",
    "\n",
    "    if choice == 'exit':\n",
    "        break\n",
    "\n",
    "    if choice == 'c to f':\n",
    "        celsius_temp = float(input(\"Enter temperature in Celsius: \"))\n",
    "        fahrenheit_temp = celsius_temp * conversion_factors['c_to_f']\n",
    "        print(f\"{celsius_temp} Celsius is {fahrenheit_temp} Fahrenheit.\")\n",
    "    \n",
    "    elif choice == 'f to c':\n",
    "        fahrenheit_temp = float(input(\"Enter temperature in Fahrenheit: \"))\n",
    "        celsius_temp = (fahrenheit_temp - 32) * conversion_factors['f_to_c']\n",
    "        print(f\"{fahrenheit_temp} Fahrenheit is {celsius_temp} Celsius.\")\n",
    "\n",
    "    else:\n",
    "        print(\"Invalid choice. Please enter 'C to F' or 'F to C'.\")\n",
    "\n"
   ]
  },
  {
   "cell_type": "code",
   "execution_count": 16,
   "id": "fe5b88b0",
   "metadata": {},
   "outputs": [
    {
     "name": "stdout",
     "output_type": "stream",
     "text": [
      "Options:\n",
      "1. Add contact\n",
      "2. Search contact\n",
      "3. Update contact\n",
      "4. Exit\n",
      "Enter your choice (1-4): 3\n",
      "Enter contact name to update: Ayesha\n",
      "Contact Ayesha not found.\n",
      "Options:\n",
      "1. Add contact\n",
      "2. Search contact\n",
      "3. Update contact\n",
      "4. Exit\n",
      "Enter your choice (1-4): 1\n",
      "Enter contact name: ayesha\n",
      "Enter phone number: 0202335681\n",
      "Contact ayesha added successfully.\n",
      "Options:\n",
      "1. Add contact\n",
      "2. Search contact\n",
      "3. Update contact\n",
      "4. Exit\n",
      "Enter your choice (1-4): 4\n",
      "Exiting program.\n"
     ]
    }
   ],
   "source": [
    "# phonebook organizer\n",
    "contacts = {}\n",
    "\n",
    "def add_contact():\n",
    "    name = input(\"Enter contact name: \")\n",
    "    number = input(\"Enter phone number: \")\n",
    "    contacts[name] = number\n",
    "    print(f\"Contact {name} added successfully.\")\n",
    "\n",
    "def search_contact():\n",
    "    search_name = input(\"Enter contact name to search: \")\n",
    "    if search_name in contacts:\n",
    "        print(f\"{search_name}'s phone number is {contacts[search_name]}.\")\n",
    "    else:\n",
    "        print(f\"Contact {search_name} not found.\")\n",
    "\n",
    "def update_contact():\n",
    "    update_name = input(\"Enter contact name to update: \")\n",
    "    if update_name in contacts:\n",
    "        new_number = input(\"Enter new phone number: \")\n",
    "        contacts[update_name] = new_number\n",
    "        print(f\"Contact {update_name} updated successfully.\")\n",
    "    else:\n",
    "        print(f\"Contact {update_name} not found.\")\n",
    "\n",
    "while True:\n",
    "    print(\"Options:\")\n",
    "    print(\"1. Add contact\")\n",
    "    print(\"2. Search contact\")\n",
    "    print(\"3. Update contact\")\n",
    "    print(\"4. Exit\")\n",
    "\n",
    "    choice = input(\"Enter your choice (1-4): \")\n",
    "\n",
    "    if choice == '1':\n",
    "        add_contact()\n",
    "\n",
    "    elif choice == '2':\n",
    "        search_contact()\n",
    "\n",
    "    elif choice == '3':\n",
    "        update_contact()\n",
    "\n",
    "    elif choice == '4':\n",
    "        print(\"Exiting program.\")\n",
    "        break\n",
    "\n",
    "    else:\n",
    "        print(\"Invalid choice. Please enter a number from 1 to 4.\")\n"
   ]
  },
  {
   "cell_type": "code",
   "execution_count": 17,
   "id": "7ae54ccb",
   "metadata": {},
   "outputs": [
    {
     "name": "stdout",
     "output_type": "stream",
     "text": [
      "Generated Password: @^XnhS-uyv0V\n"
     ]
    }
   ],
   "source": [
    "# password guesser\n",
    "import random\n",
    "\n",
    "password_settings = {\n",
    "    'length': 12,\n",
    "    'lowercase': True,\n",
    "    'uppercase': True,\n",
    "    'numbers': True,\n",
    "    'symbols': True\n",
    "}\n",
    "\n",
    "def generate_password(settings):\n",
    "    characters = ''\n",
    "    \n",
    "    if settings['lowercase']:\n",
    "        characters += 'abcdefghijklmnopqrstuvwxyz'\n",
    "    if settings['uppercase']:\n",
    "        characters += 'ABCDEFGHIJKLMNOPQRSTUVWXYZ'\n",
    "    if settings['numbers']:\n",
    "        characters += '0123456789'\n",
    "    if settings['symbols']:\n",
    "        characters += '!@#$%^&*()_-+=<>?/'\n",
    "\n",
    "    if not characters:\n",
    "        print(\"Error: No character set selected.\")\n",
    "        return\n",
    "\n",
    "    generated_password = ''.join(random.choice(characters) for _ in range(settings['length']))\n",
    "    return generated_password\n",
    "\n",
    "generated_password = generate_password(password_settings)\n",
    "\n",
    "if generated_password:\n",
    "    print(f\"Generated Password: {generated_password}\")\n"
   ]
  },
  {
   "cell_type": "code",
   "execution_count": 1,
   "id": "e8ae640b",
   "metadata": {},
   "outputs": [
    {
     "name": "stdout",
     "output_type": "stream",
     "text": [
      "Options:\n",
      "1. Add expense\n",
      "2. Display expenses\n",
      "3. Exit\n",
      "Enter your choice (1-3): 3\n",
      "Exiting program.\n"
     ]
    }
   ],
   "source": [
    "# travel budget tracker\n",
    "travel_expenses = {}\n",
    "\n",
    "while True:\n",
    "    print(\"Options:\")\n",
    "    print(\"1. Add expense\")\n",
    "    print(\"2. Display expenses\")\n",
    "    print(\"3. Exit\")\n",
    "\n",
    "    choice = input(\"Enter your choice (1-3): \")\n",
    "\n",
    "    if choice == '1':\n",
    "        category = input(\"Enter expense category (e.g., transportation, accommodation, food): \").lower()\n",
    "        if category not in travel_expenses:\n",
    "            travel_expenses[category] = 0\n",
    "\n",
    "        try:\n",
    "            expense_amount = float(input(\"Enter expense amount: \"))\n",
    "            travel_expenses[category] += expense_amount\n",
    "            print(f\"Expense of ${expense_amount} added to {category} category.\")\n",
    "        except ValueError:\n",
    "            print(\"Invalid input. Please enter a valid expense amount.\")\n",
    "\n",
    "    elif choice == '2':\n",
    "        print(\"Travel Expenses:\")\n",
    "        for category, expense in travel_expenses.items():\n",
    "            print(f\"{category.capitalize()}: ${expense}\")\n",
    "\n",
    "    elif choice == '3':\n",
    "        print(\"Exiting program.\")\n",
    "        break\n",
    "\n",
    "    else:\n",
    "        print(\"Invalid choice. Please enter a number from 1 to 3.\")\n"
   ]
  },
  {
   "cell_type": "code",
   "execution_count": null,
   "id": "4dc2e648",
   "metadata": {},
   "outputs": [],
   "source": []
  }
 ],
 "metadata": {
  "kernelspec": {
   "display_name": "Python 3 (ipykernel)",
   "language": "python",
   "name": "python3"
  },
  "language_info": {
   "codemirror_mode": {
    "name": "ipython",
    "version": 3
   },
   "file_extension": ".py",
   "mimetype": "text/x-python",
   "name": "python",
   "nbconvert_exporter": "python",
   "pygments_lexer": "ipython3",
   "version": "3.11.5"
  }
 },
 "nbformat": 4,
 "nbformat_minor": 5
}
